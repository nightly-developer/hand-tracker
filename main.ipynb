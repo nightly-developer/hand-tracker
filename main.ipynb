{
 "cells": [
  {
   "cell_type": "code",
   "execution_count": 1,
   "metadata": {},
   "outputs": [],
   "source": [
    "import cv2\n",
    "import mediapipe as mp\n",
    "import time"
   ]
  },
  {
   "cell_type": "code",
   "execution_count": 2,
   "metadata": {},
   "outputs": [
    {
     "name": "stdout",
     "output_type": "stream",
     "text": [
      "c:\\Users\\sfspl\\VScode\\python-projects\\hand-tracker\\venv\\Scripts\\python.exe\n"
     ]
    }
   ],
   "source": [
    "import sys\n",
    "\n",
    "print(sys.executable)\n"
   ]
  },
  {
   "cell_type": "code",
   "execution_count": 3,
   "metadata": {},
   "outputs": [],
   "source": [
    "cap = cv2.VideoCapture(0)\n",
    "mpHands = mp.solutions.hands\n",
    "hands = mpHands.Hands()\n",
    "mpDraw = mp.solutions.drawing_utils"
   ]
  },
  {
   "cell_type": "code",
   "execution_count": 4,
   "metadata": {},
   "outputs": [],
   "source": [
    "while True:\n",
    "  success, img = cap.read()\n",
    "  imgRGB = cv2.cvtColor(img,cv2.COLOR_BGR2RGB)\n",
    "  results = hands.process(imgRGB)\n",
    "  # print(results.multi_hand_landmarks)\n",
    "  if results.multi_hand_landmarks:\n",
    "    for handLMS in results.multi_hand_landmarks:\n",
    "      for id,lm in enumerate(handLMS.landmark):\n",
    "        window_height, window_width, channel = img.shape\n",
    "        cx, cy = int(lm.x*window_height), int(lm.y*window_width)\n",
    "      mpDraw.draw_landmarks(img,handLMS,mpHands.HAND_CONNECTIONS)\n",
    "\n",
    "  cv2.imshow(\"Image\",img)\n",
    "  key = cv2.waitKey(1)\n",
    "  if key == 27:\n",
    "    cv2.destroyAllWindows()\n",
    "    break"
   ]
  }
 ],
 "metadata": {
  "kernelspec": {
   "display_name": "hand-tracking",
   "language": "python",
   "name": "python3"
  },
  "language_info": {
   "codemirror_mode": {
    "name": "ipython",
    "version": 3
   },
   "file_extension": ".py",
   "mimetype": "text/x-python",
   "name": "python",
   "nbconvert_exporter": "python",
   "pygments_lexer": "ipython3",
   "version": "3.11.7"
  }
 },
 "nbformat": 4,
 "nbformat_minor": 2
}
